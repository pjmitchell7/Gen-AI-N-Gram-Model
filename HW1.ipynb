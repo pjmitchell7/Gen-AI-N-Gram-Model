{
  "nbformat": 4,
  "nbformat_minor": 0,
  "metadata": {
    "colab": {
      "provenance": []
    },
    "kernelspec": {
      "name": "python3",
      "display_name": "Python 3"
    },
    "language_info": {
      "name": "python"
    }
  },
  "cells": [
    {
      "cell_type": "markdown",
      "source": [
        "Gen AI Homework 1 N-Gram Model - Paul Mitchell, Stephanie Omondiale\n",
        "\n"
      ],
      "metadata": {
        "id": "8cQsV3cSBUr2"
      }
    },
    {
      "cell_type": "code",
      "execution_count": 3,
      "metadata": {
        "colab": {
          "base_uri": "https://localhost:8080/"
        },
        "id": "OzwPp2hrdgjl",
        "outputId": "0bc790f2-9f83-43eb-cb00-50348f1a091c"
      },
      "outputs": [
        {
          "output_type": "stream",
          "name": "stdout",
          "text": [
            "Mounted at /content/drive\n"
          ]
        }
      ],
      "source": [
        "from google.colab import drive\n",
        "drive.mount('/content/drive', force_remount=True)\n"
      ]
    },
    {
      "cell_type": "markdown",
      "source": [
        "Preprocessing and Training My Dataset"
      ],
      "metadata": {
        "id": "Q3KLGPI9u9bB"
      }
    },
    {
      "cell_type": "code",
      "source": [
        "import os\n",
        "\n",
        "# Define file paths\n",
        "base_dir = \"/content/drive/MyDrive/N-Gram-Model/\"\n",
        "train_file_student = os.path.join(base_dir, \"tokenized_train.txt\")\n",
        "eval_file = os.path.join(base_dir, \"tokenized_eval.txt\")\n",
        "test_file = os.path.join(base_dir, \"tokenized_test.txt\")\n",
        "train_file_teacher = os.path.join(base_dir, \"training.txt\")  # Professor's dataset\n",
        "\n",
        "# Load tokenized training data (Student)\n",
        "with open(train_file_student, \"r\", encoding=\"utf-8\") as file:\n",
        "    tokenized_train_student = [line.strip().split() for line in file.readlines() if line.strip()]\n",
        "\n",
        "# Load tokenized training data (Teacher)\n",
        "with open(train_file_teacher, \"r\", encoding=\"utf-8\") as file:\n",
        "    tokenized_train_teacher = [line.strip().split() for line in file.readlines() if line.strip()]\n",
        "\n",
        "# Load evaluation data\n",
        "with open(eval_file, \"r\", encoding=\"utf-8\") as file:\n",
        "    tokenized_eval = [line.strip().split() for line in file.readlines() if line.strip()]\n",
        "\n",
        "# Load test data\n",
        "with open(test_file, \"r\", encoding=\"utf-8\") as file:\n",
        "    tokenized_test = [line.strip().split() for line in file.readlines() if line.strip()]\n",
        "\n",
        "# Print sample checks\n",
        "print(f\"✅ Student Training Set: {len(tokenized_train_student)} methods\")\n",
        "print(f\"✅ Teacher Training Set: {len(tokenized_train_teacher)} methods\")\n",
        "print(f\"✅ Evaluation Set: {len(tokenized_eval)} methods\")\n",
        "print(f\"✅ Test Set: {len(tokenized_test)} methods\")\n",
        "print(\"\\n🔹 Sample tokenized method (Student):\", tokenized_train_student[0])\n",
        "print(\"🔹 Sample tokenized method (Teacher):\", tokenized_train_teacher[0])\n"
      ],
      "metadata": {
        "colab": {
          "base_uri": "https://localhost:8080/"
        },
        "id": "w9hxNK_QxTWK",
        "outputId": "c3d0bedd-6f34-4383-b1ae-7f1d0bde6e8b"
      },
      "execution_count": 4,
      "outputs": [
        {
          "output_type": "stream",
          "name": "stdout",
          "text": [
            "✅ Student Training Set: 1934 methods\n",
            "✅ Teacher Training Set: 100000 methods\n",
            "✅ Evaluation Set: 644 methods\n",
            "✅ Test Set: 100 methods\n",
            "\n",
            "🔹 Sample tokenized method (Student): ['private', 'void', 'createBookScan', '(', ')', '{', 'Intent', 'intent', '=', 'new', 'Intent', '(', '\"', 'com.google.zxing.client.android.SCAN', '\"', ')', ';']\n",
            "🔹 Sample tokenized method (Teacher): ['boolean', 'function', '(', ')', '{', 'return', 'isParsed', ';', '}']\n"
          ]
        }
      ]
    },
    {
      "cell_type": "code",
      "source": [
        "from collections import Counter\n",
        "\n",
        "MIN_FREQ = 2  # Adjust based on threshold for rare words\n",
        "\n",
        "def build_vocab_with_unk(tokenized_data, min_freq):\n",
        "    word_counts = Counter(token for method in tokenized_data for token in method)\n",
        "    vocab = {word for word, count in word_counts.items() if count >= min_freq}\n",
        "    vocab.add(\"<UNK>\")  # Ensure \"<UNK>\" is explicitly included\n",
        "    return vocab\n",
        "\n",
        "# Build vocabularies separately for student and teacher datasets\n",
        "vocab_student = build_vocab_with_unk(tokenized_train_student, min_freq=MIN_FREQ)\n",
        "vocab_teacher = build_vocab_with_unk(tokenized_train_teacher, min_freq=MIN_FREQ)\n",
        "\n",
        "print(f\"✅ Student Vocabulary Size: {len(vocab_student)}\")\n",
        "print(f\"✅ Teacher Vocabulary Size: {len(vocab_teacher)}\")\n",
        "\n",
        "def preprocess_data_with_unk(tokenized_data, vocab):\n",
        "    processed_data = []\n",
        "    for method in tokenized_data:\n",
        "        processed_method = [\"<s>\"] + [token if token in vocab else \"<UNK>\" for token in method] + [\"</s>\"]\n",
        "        processed_data.append(processed_method)\n",
        "    return processed_data\n",
        "\n",
        "# Apply processing\n",
        "train_data_student = preprocess_data_with_unk(tokenized_train_student, vocab_student)\n",
        "train_data_teacher = preprocess_data_with_unk(tokenized_train_teacher, vocab_teacher)\n",
        "eval_data = preprocess_data_with_unk(tokenized_eval, vocab_student)  # Use student's vocab for eval\n",
        "test_data = preprocess_data_with_unk(tokenized_test, vocab_student)  # Use student's vocab for test\n",
        "\n",
        "print(f\"✅ Student Training Data Size: {len(train_data_student)}\")\n",
        "print(f\"✅ Teacher Training Data Size: {len(train_data_teacher)}\")\n"
      ],
      "metadata": {
        "colab": {
          "base_uri": "https://localhost:8080/"
        },
        "id": "JSHU53r2pG2m",
        "outputId": "4387f221-b1f4-489c-95c1-cd25016a64e2"
      },
      "execution_count": 5,
      "outputs": [
        {
          "output_type": "stream",
          "name": "stdout",
          "text": [
            "✅ Student Vocabulary Size: 3216\n",
            "✅ Teacher Vocabulary Size: 36473\n",
            "✅ Student Training Data Size: 1934\n",
            "✅ Teacher Training Data Size: 100000\n"
          ]
        }
      ]
    },
    {
      "cell_type": "markdown",
      "source": [
        "New\n",
        "----------"
      ],
      "metadata": {
        "id": "iE4rB44OpBka"
      }
    },
    {
      "cell_type": "code",
      "source": [
        "import pickle\n",
        "from nltk.lm import KneserNeyInterpolated\n",
        "from nltk.lm.preprocessing import padded_everygram_pipeline\n",
        "\n",
        "def train_kneser_ney_ngram(n, train_data, model_name):\n",
        "    print(f\"\\nTraining {n}-Gram Model for {model_name}...\")\n",
        "\n",
        "    train_ngrams, vocab = padded_everygram_pipeline(n, train_data)\n",
        "\n",
        "    model = KneserNeyInterpolated(n)\n",
        "    model.fit(train_ngrams, vocab)\n",
        "\n",
        "    # Save model\n",
        "    model_path = f\"{model_name}_{n}gram_model.pkl\"\n",
        "    with open(model_path, \"wb\") as f:\n",
        "        pickle.dump(model, f)\n",
        "\n",
        "    print(f\"✅ {n}-Gram Model trained & saved as: {model_path}\")\n",
        "\n",
        "# Train models for student and teacher datasets\n",
        "for n in [3, 5, 7]:\n",
        "    train_kneser_ney_ngram(n, train_data_student, \"student\")\n",
        "    train_kneser_ney_ngram(n, train_data_teacher, \"teacher\")\n"
      ],
      "metadata": {
        "colab": {
          "base_uri": "https://localhost:8080/"
        },
        "id": "H0e5qrtVpGFq",
        "outputId": "3e6efe21-d349-4b77-b6c8-fe6edc1b9e32"
      },
      "execution_count": 9,
      "outputs": [
        {
          "output_type": "stream",
          "name": "stdout",
          "text": [
            "\n",
            "Training 3-Gram Model for student...\n",
            "✅ 3-Gram Model trained & saved as: student_3gram_model.pkl\n",
            "\n",
            "Training 3-Gram Model for teacher...\n",
            "✅ 3-Gram Model trained & saved as: teacher_3gram_model.pkl\n",
            "\n",
            "Training 5-Gram Model for student...\n",
            "✅ 5-Gram Model trained & saved as: student_5gram_model.pkl\n",
            "\n",
            "Training 5-Gram Model for teacher...\n",
            "✅ 5-Gram Model trained & saved as: teacher_5gram_model.pkl\n",
            "\n",
            "Training 7-Gram Model for student...\n",
            "✅ 7-Gram Model trained & saved as: student_7gram_model.pkl\n",
            "\n",
            "Training 7-Gram Model for teacher...\n",
            "✅ 7-Gram Model trained & saved as: teacher_7gram_model.pkl\n"
          ]
        }
      ]
    },
    {
      "cell_type": "code",
      "source": [
        "import pickle\n",
        "\n",
        "# Reload trained models (ensure these files exist)\n",
        "ngram_models_student = {}\n",
        "ngram_models_teacher = {}\n",
        "\n",
        "for n in [3, 5, 7]:\n",
        "    student_model_path = f\"student_{n}gram_model.pkl\"\n",
        "    teacher_model_path = f\"teacher_{n}gram_model.pkl\"\n",
        "\n",
        "    try:\n",
        "        with open(student_model_path, \"rb\") as f:\n",
        "            ngram_models_student[n] = pickle.load(f)\n",
        "        with open(teacher_model_path, \"rb\") as f:\n",
        "            ngram_models_teacher[n] = pickle.load(f)\n",
        "    except FileNotFoundError:\n",
        "        print(f\"❌ Model file not found: {student_model_path} or {teacher_model_path}\")\n"
      ],
      "metadata": {
        "id": "Y_UkVl-RpIpr"
      },
      "execution_count": 11,
      "outputs": []
    },
    {
      "cell_type": "code",
      "source": [
        "import numpy as np\n",
        "\n",
        "# Ensure models are loaded\n",
        "if not ngram_models_student or not ngram_models_teacher:\n",
        "    raise ValueError(\"❌ No models loaded. Ensure training has been completed.\")\n",
        "\n",
        "# Compute confidence statistics efficiently\n",
        "def compute_confidence_stats(models, test_data):\n",
        "    stats = {}\n",
        "    for n, model in models.items():\n",
        "        all_probabilities = [\n",
        "            model.score(token, method[:i])\n",
        "            for method in test_data[:100]  # Only first 100 test cases\n",
        "            for i, token in enumerate(method) if i > 0\n",
        "        ]\n",
        "        stats[n] = {\n",
        "            \"mean\": np.mean(all_probabilities),\n",
        "            \"median\": np.median(all_probabilities)\n",
        "        }\n",
        "    return stats\n",
        "\n",
        "# Run optimized function\n",
        "confidence_stats_student = compute_confidence_stats(ngram_models_student, test_data)\n",
        "confidence_stats_teacher = compute_confidence_stats(ngram_models_teacher, test_data)\n",
        "\n",
        "print(\"\\n✅ Confidence statistics computed successfully.\")\n"
      ],
      "metadata": {
        "colab": {
          "base_uri": "https://localhost:8080/"
        },
        "id": "-Omy_Nyc0e9q",
        "outputId": "033be4d4-6b67-4bec-8faf-aef5aed12d32"
      },
      "execution_count": 15,
      "outputs": [
        {
          "output_type": "stream",
          "name": "stdout",
          "text": [
            "\n",
            "✅ Confidence statistics computed successfully.\n"
          ]
        }
      ]
    },
    {
      "cell_type": "markdown",
      "source": [
        "Analysis for Our (Student) Dataset"
      ],
      "metadata": {
        "id": "8pdnhndEEeNZ"
      }
    },
    {
      "cell_type": "code",
      "source": [
        "import numpy as np\n",
        "import matplotlib.pyplot as plt\n",
        "import seaborn as sns\n",
        "import pickle\n",
        "\n",
        "# 📂 Load trained models\n",
        "ngram_models = {}\n",
        "for n in [3, 5, 7]:\n",
        "    model_path = f\"kneserney_{n}gram_model.pkl\"\n",
        "    with open(model_path, \"rb\") as f:\n",
        "        ngram_models[n] = pickle.load(f)\n",
        "\n",
        "# ✅ Compute mean and median probabilities for each model\n",
        "confidence_stats = {}\n",
        "all_model_probabilities = {}\n",
        "\n",
        "for n, model in ngram_models.items():\n",
        "    all_probabilities = []\n",
        "    for idx, method in enumerate(test_tokens_replaced[:100]):  # Evaluate on first 100 test cases\n",
        "        probabilities = [model.score(token, method[:i]) for i, token in enumerate(method) if i > 0]\n",
        "        all_probabilities.extend(probabilities)\n",
        "\n",
        "    mean_prob = np.mean(all_probabilities)\n",
        "    median_prob = np.median(all_probabilities)\n",
        "\n",
        "    confidence_stats[n] = {\"mean\": mean_prob, \"median\": median_prob}\n",
        "    all_model_probabilities[n] = all_probabilities  # Store all probabilities for visualization\n",
        "\n",
        "# 📊 Box Plot: Compare confidence distributions\n",
        "plt.figure(figsize=(8, 6))\n",
        "sns.boxplot(data=[all_model_probabilities[n] for n in [3, 5, 7]],\n",
        "            notch=True, showfliers=False)\n",
        "plt.xticks(range(3), [\"3-Gram\", \"5-Gram\", \"7-Gram\"])\n",
        "plt.ylabel(\"Prediction Confidence\")\n",
        "plt.title(\"📊 Token Prediction Confidence Distribution\")\n",
        "plt.show()\n",
        "\n",
        "# 📊 Histogram: See confidence frequency distribution\n",
        "plt.figure(figsize=(8, 6))\n",
        "for n in [3, 5, 7]:\n",
        "    plt.hist(all_model_probabilities[n], bins=30, alpha=0.6, label=f\"{n}-Gram\")\n",
        "\n",
        "plt.xlabel(\"Confidence Score\")\n",
        "plt.ylabel(\"Frequency\")\n",
        "plt.title(\"📊 Prediction Confidence Histogram\")\n",
        "plt.legend()\n",
        "plt.show()\n",
        "\n",
        "# 🔍 Print numerical results\n",
        "print(\"\\n📊 **Confidence Score Summary (Higher is Better):**\")\n",
        "for n, stats in confidence_stats.items():\n",
        "    print(f\"🔹 {n}-Gram Model -> Mean: {stats['mean']:.4f}, Median: {stats['median']:.4f}\")\n",
        "\n",
        "# 🏆 Identify the best-performing model\n",
        "best_n = max(confidence_stats, key=lambda x: confidence_stats[x]['median'])  # Use median confidence\n",
        "print(f\"\\n🏆 **Best-Performing Model:** {best_n}-Gram (Highest Median Confidence: {confidence_stats[best_n]['median']:.4f})\")\n"
      ],
      "metadata": {
        "colab": {
          "base_uri": "https://localhost:8080/",
          "height": 1000
        },
        "id": "ASKGphQ8tQ0q",
        "outputId": "77353d03-1a7d-4720-c0ac-22207fdff455"
      },
      "execution_count": 45,
      "outputs": [
        {
          "output_type": "stream",
          "name": "stderr",
          "text": [
            "/usr/local/lib/python3.11/dist-packages/IPython/core/pylabtools.py:151: UserWarning: Glyph 128202 (\\N{BAR CHART}) missing from font(s) DejaVu Sans.\n",
            "  fig.canvas.print_figure(bytes_io, **kw)\n"
          ]
        },
        {
          "output_type": "display_data",
          "data": {
            "text/plain": [
              "<Figure size 800x600 with 1 Axes>"
            ],
            "image/png": "[encoded data removed]"
          },
          "metadata": {}
        },
        {
          "output_type": "display_data",
          "data": {
            "text/plain": [
              "<Figure size 800x600 with 1 Axes>"
            ],
            "image/png": "[encoded data removed]"
          },
          "metadata": {}
        },
        {
          "output_type": "stream",
          "name": "stdout",
          "text": [
            "\n",
            "📊 **Confidence Score Summary (Higher is Better):**\n",
            "🔹 3-Gram Model -> Mean: 0.4234, Median: 0.2745\n",
            "🔹 5-Gram Model -> Mean: 0.5421, Median: 0.6340\n",
            "🔹 7-Gram Model -> Mean: 0.5753, Median: 0.9001\n",
            "\n",
            "🏆 **Best-Performing Model:** 7-Gram (Highest Median Confidence: 0.9001)\n"
          ]
        }
      ]
    },
    {
      "cell_type": "code",
      "source": [
        "import json\n",
        "\n",
        "# ✅ Select best-performing model (7-Gram)\n",
        "best_model_n = 7\n",
        "best_model_path = f\"kneserney_{best_model_n}gram_model.pkl\"\n",
        "\n",
        "# ✅ Load trained model\n",
        "with open(best_model_path, \"rb\") as f:\n",
        "    best_model = pickle.load(f)\n",
        "\n",
        "# ✅ Generate predictions for test set\n",
        "student_results = {}\n",
        "\n",
        "for idx, method in enumerate(test_tokens_replaced[:100]):  # First 100 test cases\n",
        "    predictions = [\n",
        "        (token, round(best_model.score(token, method[:i]), 4))\n",
        "        for i, token in enumerate(method) if i > 0\n",
        "    ]\n",
        "    student_results[idx] = predictions\n",
        "\n",
        "# ✅ Save results to JSON\n",
        "student_json_path = \"/content/drive/MyDrive/N-Gram-Model/results_student_model.json\"\n",
        "\n",
        "with open(student_json_path, \"w\", encoding=\"utf-8\") as f:\n",
        "    json.dump(student_results, f, indent=4)\n",
        "\n",
        "print(f\"\\n✅ `results_student_model.json` saved successfully at {student_json_path}!\")\n"
      ],
      "metadata": {
        "colab": {
          "base_uri": "https://localhost:8080/"
        },
        "id": "IqZ93zE8wSDL",
        "outputId": "5e001c12-ebf0-492b-9817-b9d6f7bd745f"
      },
      "execution_count": 46,
      "outputs": [
        {
          "output_type": "stream",
          "name": "stdout",
          "text": [
            "\n",
            "✅ `results_student_model.json` saved successfully at /content/drive/MyDrive/N-Gram-Model/results_student_model.json!\n"
          ]
        }
      ]
    },
    {
      "cell_type": "code",
      "source": [
        "import json\n",
        "import matplotlib.pyplot as plt\n",
        "import seaborn as sns\n",
        "\n",
        "# 📂 Load student model results\n",
        "results_path = \"/content/drive/MyDrive/N-Gram-Model/results_student_model.json\"\n",
        "\n",
        "with open(results_path, \"r\", encoding=\"utf-8\") as f:\n",
        "    predictions_7gram = json.load(f)\n",
        "\n",
        "# 📊 Extract probabilities\n",
        "all_probabilities = [prob for predictions in predictions_7gram.values() for _, prob in predictions]\n",
        "\n",
        "# 📈 Plot histogram of prediction probabilities\n",
        "plt.figure(figsize=(10, 5))\n",
        "sns.histplot(all_probabilities, bins=30, kde=True)\n",
        "plt.xlabel(\"Prediction Probability\")\n",
        "plt.ylabel(\"Frequency\")\n",
        "plt.title(\"📊 7-Gram Model Token Prediction Probability Distribution\")\n",
        "plt.show()\n",
        "\n",
        "# 📈 Boxplot to see spread of probabilities\n",
        "plt.figure(figsize=(7, 4))\n",
        "sns.boxplot(data=all_probabilities)\n",
        "plt.ylabel(\"Prediction Probability\")\n",
        "plt.title(\"📊 7-Gram Model Probability Spread\")\n",
        "plt.show()\n",
        "\n",
        "# 🔍 Summary Statistics\n",
        "import numpy as np\n",
        "prob_summary = {\n",
        "    \"Mean Probability\": np.mean(all_probabilities),\n",
        "    \"Median Probability\": np.median(all_probabilities),\n",
        "    \"Max Probability\": np.max(all_probabilities),\n",
        "    \"Min Probability\": np.min(all_probabilities),\n",
        "}\n",
        "\n",
        "prob_summary\n"
      ],
      "metadata": {
        "colab": {
          "base_uri": "https://localhost:8080/",
          "height": 1000
        },
        "id": "hCLs__Nkyr4P",
        "outputId": "e4bc2585-a756-49fb-89f1-cf1c2ac5973d"
      },
      "execution_count": 49,
      "outputs": [
        {
          "output_type": "stream",
          "name": "stderr",
          "text": [
            "/usr/local/lib/python3.11/dist-packages/IPython/core/pylabtools.py:151: UserWarning: Glyph 128202 (\\N{BAR CHART}) missing from font(s) DejaVu Sans.\n",
            "  fig.canvas.print_figure(bytes_io, **kw)\n"
          ]
        },
        {
          "output_type": "display_data",
          "data": {
            "text/plain": [
              "<Figure size 1000x500 with 1 Axes>"
            ],
            "image/png": "[encoded data removed]"
          },
          "metadata": {}
        },
        {
          "output_type": "stream",
          "name": "stderr",
          "text": [
            "/usr/local/lib/python3.11/dist-packages/IPython/core/pylabtools.py:151: UserWarning: Glyph 128202 (\\N{BAR CHART}) missing from font(s) DejaVu Sans.\n",
            "  fig.canvas.print_figure(bytes_io, **kw)\n"
          ]
        },
        {
          "output_type": "display_data",
          "data": {
            "text/plain": [
              "<Figure size 700x400 with 1 Axes>"
            ],
            "image/png": "[encoded data removed]"
          },
          "metadata": {}
        },
        {
          "output_type": "execute_result",
          "data": {
            "text/plain": [
              "{'Mean Probability': 0.5752904688869412,\n",
              " 'Median Probability': 0.90015,\n",
              " 'Max Probability': 1.0,\n",
              " 'Min Probability': 0.0}"
            ]
          },
          "metadata": {},
          "execution_count": 49
        }
      ]
    },
    {
      "cell_type": "markdown",
      "source": [
        "Graphs for Teacher Prediction Confidence Distributions"
      ],
      "metadata": {
        "id": "xDja3qR0Gplb"
      }
    },
    {
      "cell_type": "code",
      "source": [
        "import numpy as np\n",
        "import matplotlib.pyplot as plt\n",
        "import seaborn as sns\n",
        "import pickle\n",
        "\n",
        "# Load trained teacher models\n",
        "ngram_models_teacher = {}\n",
        "for n in [3, 5, 7]:\n",
        "    model_path = f\"kneserney_teacher_{n}gram_model.pkl\"\n",
        "    with open(model_path, \"rb\") as f:\n",
        "        ngram_models_teacher[n] = pickle.load(f)\n",
        "\n",
        "# Compute mean and median probabilities for teacher's model\n",
        "confidence_stats_teacher = {}\n",
        "all_model_probabilities_teacher = {}\n",
        "\n",
        "for n, model in ngram_models_teacher.items():\n",
        "    all_probabilities = []\n",
        "    for idx, method in enumerate(test_tokens_replaced[:100]):  # Evaluate on first 100 test cases\n",
        "        probabilities = [model.score(token, method[:i]) for i, token in enumerate(method) if i > 0]\n",
        "        all_probabilities.extend(probabilities)\n",
        "\n",
        "    mean_prob = np.mean(all_probabilities)\n",
        "    median_prob = np.median(all_probabilities)\n",
        "\n",
        "    confidence_stats_teacher[n] = {\"mean\": mean_prob, \"median\": median_prob}\n",
        "    all_model_probabilities_teacher[n] = all_probabilities  # Store all probabilities for visualization\n",
        "\n",
        "# 📊 Box Plot: Compare confidence distributions for teacher's dataset\n",
        "plt.figure(figsize=(8, 6))\n",
        "sns.boxplot(data=[all_model_probabilities_teacher[n] for n in [3, 5, 7]],\n",
        "            notch=True, showfliers=False)\n",
        "plt.xticks(range(3), [\"3-Gram\", \"5-Gram\", \"7-Gram\"])\n",
        "plt.ylabel(\"Prediction Confidence\")\n",
        "plt.title(\"📊 Teacher's Model - Token Prediction Confidence Distribution\")\n",
        "plt.show()\n",
        "\n",
        "# 📊 Histogram: See confidence frequency distribution\n",
        "plt.figure(figsize=(8, 6))\n",
        "for n in [3, 5, 7]:\n",
        "    plt.hist(all_model_probabilities_teacher[n], bins=30, alpha=0.6, label=f\"{n}-Gram\")\n",
        "\n",
        "plt.xlabel(\"Confidence Score\")\n",
        "plt.ylabel(\"Frequency\")\n",
        "plt.title(\"📊 Teacher's Model - Prediction Confidence Histogram\")\n",
        "plt.legend()\n",
        "plt.show()\n",
        "\n",
        "# 🔍 Print numerical results\n",
        "print(\"\\n📊 **Confidence Score Summary (Higher is Better) for Teacher's Model:**\")\n",
        "for n, stats in confidence_stats_teacher.items():\n",
        "    print(f\"🔹 {n}-Gram Model -> Mean: {stats['mean']:.4f}, Median: {stats['median']:.4f}\")\n",
        "\n",
        "# 🏆 Identify the best-performing teacher model\n",
        "best_n_teacher = max(confidence_stats_teacher, key=lambda x: confidence_stats_teacher[x]['median'])\n",
        "print(f\"\\n🏆 **Best-Performing Teacher Model:** {best_n_teacher}-Gram (Highest Median Confidence: {confidence_stats_teacher[best_n_teacher]['median']:.4f})\")\n"
      ],
      "metadata": {
        "id": "704V8AmyDtGj"
      },
      "execution_count": null,
      "outputs": []
    },
    {
      "cell_type": "markdown",
      "source": [
        "Predictions for Teacher"
      ],
      "metadata": {
        "id": "pYEddR5eGgWY"
      }
    },
    {
      "cell_type": "code",
      "source": [
        "import json\n",
        "\n",
        "# ✅ Select best-performing teacher model\n",
        "best_model_n_teacher = best_n_teacher\n",
        "best_model_path_teacher = f\"kneserney_teacher_{best_model_n_teacher}gram_model.pkl\"\n",
        "\n",
        "# ✅ Load trained model\n",
        "with open(best_model_path_teacher, \"rb\") as f:\n",
        "    best_model_teacher = pickle.load(f)\n",
        "\n",
        "# ✅ Generate predictions for test set\n",
        "teacher_results = {}\n",
        "\n",
        "for idx, method in enumerate(test_tokens_replaced[:100]):  # First 100 test cases\n",
        "    predictions = [\n",
        "        (token, round(best_model_teacher.score(token, method[:i]), 4))\n",
        "        for i, token in enumerate(method) if i > 0\n",
        "    ]\n",
        "    teacher_results[idx] = predictions\n",
        "\n",
        "# ✅ Save results to JSON\n",
        "teacher_json_path = \"/content/drive/MyDrive/N-Gram-Model/results_teacher_model.json\"\n",
        "\n",
        "with open(teacher_json_path, \"w\", encoding=\"utf-8\") as f:\n",
        "    json.dump(teacher_results, f, indent=4)\n",
        "\n",
        "print(f\"\\n✅ `results_teacher_model.json` saved successfully at {teacher_json_path}!\")\n"
      ],
      "metadata": {
        "id": "4f9ugXt-GG5w"
      },
      "execution_count": null,
      "outputs": []
    },
    {
      "cell_type": "markdown",
      "source": [
        "Results of Teacher’s Model"
      ],
      "metadata": {
        "id": "g2STdokiGcyZ"
      }
    },
    {
      "cell_type": "code",
      "source": [
        "import json\n",
        "import matplotlib.pyplot as plt\n",
        "import seaborn as sns\n",
        "\n",
        "# 📂 Load teacher model results\n",
        "teacher_results_path = \"/content/drive/MyDrive/N-Gram-Model/results_teacher_model.json\"\n",
        "\n",
        "with open(teacher_results_path, \"r\", encoding=\"utf-8\") as f:\n",
        "    predictions_teacher_7gram = json.load(f)\n",
        "\n",
        "# 📊 Extract probabilities\n",
        "all_probabilities_teacher = [prob for predictions in predictions_teacher_7gram.values() for _, prob in predictions]\n",
        "\n",
        "# 📈 Plot histogram of teacher's prediction probabilities\n",
        "plt.figure(figsize=(10, 5))\n",
        "sns.histplot(all_probabilities_teacher, bins=30, kde=True)\n",
        "plt.xlabel(\"Prediction Probability\")\n",
        "plt.ylabel(\"Frequency\")\n",
        "plt.title(\"📊 Teacher's 7-Gram Model - Token Prediction Probability Distribution\")\n",
        "plt.show()\n",
        "\n",
        "# 📈 Boxplot to see spread of probabilities\n",
        "plt.figure(figsize=(7, 4))\n",
        "sns.boxplot(data=all_probabilities_teacher)\n",
        "plt.ylabel(\"Prediction Probability\")\n",
        "plt.title(\"📊 Teacher's 7-Gram Model Probability Spread\")\n",
        "plt.show()\n",
        "\n",
        "# 🔍 Summary Statistics\n",
        "import numpy as np\n",
        "prob_summary_teacher = {\n",
        "    \"Mean Probability\": np.mean(all_probabilities_teacher),\n",
        "    \"Median Probability\": np.median(all_probabilities_teacher),\n",
        "    \"Max Probability\": np.max(all_probabilities_teacher),\n",
        "    \"Min Probability\": np.min(all_probabilities_teacher),\n",
        "}\n",
        "\n",
        "prob_summary_teacher\n"
      ],
      "metadata": {
        "id": "qiz7JsojGMtC"
      },
      "execution_count": null,
      "outputs": []
    }
  ]
}